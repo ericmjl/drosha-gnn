{
 "cells": [
  {
   "cell_type": "code",
   "execution_count": 1,
   "id": "cutting-blanket",
   "metadata": {},
   "outputs": [],
   "source": [
    "%load_ext autoreload\n",
    "%autoreload 2\n",
    "%config InlineBackend.figure_format='retina'"
   ]
  },
  {
   "cell_type": "markdown",
   "id": "motivated-vector",
   "metadata": {},
   "source": [
    "## Cross-validation of model performance\n",
    "\n",
    "In this notebook, we wish to cross-validate our GNN model's performance. In particular, I do want to see whether the trends we observed are reproducible across different PRNGKeys."
   ]
  },
  {
   "cell_type": "markdown",
   "id": "smoking-agency",
   "metadata": {},
   "source": [
    "## Load data\n",
    "\n",
    "We start with a pickled version of our graph data."
   ]
  },
  {
   "cell_type": "code",
   "execution_count": 37,
   "id": "wrong-advocate",
   "metadata": {},
   "outputs": [],
   "source": [
    "import pickle as pkl\n",
    "from pyprojroot import here\n",
    "from drosha_gnn.graph import to_networkx\n",
    "from drosha_gnn import annotate\n",
    "import pandas as pd\n",
    "import janitor"
   ]
  },
  {
   "cell_type": "code",
   "execution_count": 38,
   "id": "qualified-bridges",
   "metadata": {},
   "outputs": [
    {
     "data": {
      "text/html": [
       "<div>\n",
       "<style scoped>\n",
       "    .dataframe tbody tr th:only-of-type {\n",
       "        vertical-align: middle;\n",
       "    }\n",
       "\n",
       "    .dataframe tbody tr th {\n",
       "        vertical-align: top;\n",
       "    }\n",
       "\n",
       "    .dataframe thead th {\n",
       "        text-align: right;\n",
       "    }\n",
       "</style>\n",
       "<table border=\"1\" class=\"dataframe\">\n",
       "  <thead>\n",
       "    <tr style=\"text-align: right;\">\n",
       "      <th></th>\n",
       "      <th>rowid</th>\n",
       "      <th>miRNA</th>\n",
       "      <th>forward_mut</th>\n",
       "      <th>frac_avg</th>\n",
       "      <th>replicate</th>\n",
       "      <th>lowCounts_y</th>\n",
       "      <th>outlier_y</th>\n",
       "      <th>seq</th>\n",
       "      <th>fiveEnd</th>\n",
       "      <th>threeEnd</th>\n",
       "      <th>...</th>\n",
       "      <th>UGU</th>\n",
       "      <th>CNNC</th>\n",
       "      <th>dot_bracket</th>\n",
       "      <th>compact</th>\n",
       "      <th>hairpin_score</th>\n",
       "      <th>minimum_free_energy</th>\n",
       "      <th>ensemble_free_energy</th>\n",
       "      <th>basename</th>\n",
       "      <th>logit</th>\n",
       "      <th>graph</th>\n",
       "    </tr>\n",
       "  </thead>\n",
       "  <tbody>\n",
       "    <tr>\n",
       "      <th>0</th>\n",
       "      <td>1</td>\n",
       "      <td>1</td>\n",
       "      <td>None</td>\n",
       "      <td>0.998386</td>\n",
       "      <td>1</td>\n",
       "      <td>0</td>\n",
       "      <td>0</td>\n",
       "      <td>GUACGGAGGCUGUUAGGCAGACACAAACUGUGAAGUGCUGUGGAUU...</td>\n",
       "      <td>10</td>\n",
       "      <td>-10</td>\n",
       "      <td>...</td>\n",
       "      <td>0</td>\n",
       "      <td>1</td>\n",
       "      <td>((((....((((((..((((.(((...(((((((((((((((((((...</td>\n",
       "      <td>23.822519</td>\n",
       "      <td>337.293747</td>\n",
       "      <td>-59.5</td>\n",
       "      <td>-0.440509</td>\n",
       "      <td>1</td>\n",
       "      <td>6.427601</td>\n",
       "      <td>(0, 1, 2, 3, 4, 5, 6, 7, 8, 9, 10, 11, 12, 13,...</td>\n",
       "    </tr>\n",
       "    <tr>\n",
       "      <th>1</th>\n",
       "      <td>2</td>\n",
       "      <td>2</td>\n",
       "      <td>None</td>\n",
       "      <td>0.998126</td>\n",
       "      <td>1</td>\n",
       "      <td>0</td>\n",
       "      <td>0</td>\n",
       "      <td>GUACGGAGGCUGUUAGGCAGCACUCGCUCCCACCUUGUCCUCACGG...</td>\n",
       "      <td>15</td>\n",
       "      <td>-13</td>\n",
       "      <td>...</td>\n",
       "      <td>0</td>\n",
       "      <td>1</td>\n",
       "      <td>(((((...(((((...))))).((((((.(((((.((.(((((.((...</td>\n",
       "      <td>22.298016</td>\n",
       "      <td>384.374378</td>\n",
       "      <td>-58.6</td>\n",
       "      <td>-0.421181</td>\n",
       "      <td>2</td>\n",
       "      <td>6.277715</td>\n",
       "      <td>(0, 1, 2, 3, 4, 5, 6, 7, 8, 9, 10, 11, 12, 13,...</td>\n",
       "    </tr>\n",
       "    <tr>\n",
       "      <th>2</th>\n",
       "      <td>3</td>\n",
       "      <td>3</td>\n",
       "      <td>None</td>\n",
       "      <td>0.997694</td>\n",
       "      <td>1</td>\n",
       "      <td>0</td>\n",
       "      <td>0</td>\n",
       "      <td>GUACGGAGGCUGUUAGGCAGACUCCUCAUGGCCUCACUUUUCCACU...</td>\n",
       "      <td>9</td>\n",
       "      <td>-9</td>\n",
       "      <td>...</td>\n",
       "      <td>0</td>\n",
       "      <td>0</td>\n",
       "      <td>....((((.((((...)))).))))......((((((((.((((((...</td>\n",
       "      <td>21.073267</td>\n",
       "      <td>273.538719</td>\n",
       "      <td>-71.7</td>\n",
       "      <td>-0.512519</td>\n",
       "      <td>3</td>\n",
       "      <td>6.070139</td>\n",
       "      <td>(0, 1, 2, 3, 4, 5, 6, 7, 8, 9, 10, 11, 12, 13,...</td>\n",
       "    </tr>\n",
       "    <tr>\n",
       "      <th>3</th>\n",
       "      <td>4</td>\n",
       "      <td>4</td>\n",
       "      <td>None</td>\n",
       "      <td>0.997542</td>\n",
       "      <td>1</td>\n",
       "      <td>0</td>\n",
       "      <td>0</td>\n",
       "      <td>GUACGGAGGCUGUUAGGCAGAAGCCUUGUGUUCCAGCCCGAGGCCU...</td>\n",
       "      <td>10</td>\n",
       "      <td>-8</td>\n",
       "      <td>...</td>\n",
       "      <td>0</td>\n",
       "      <td>0</td>\n",
       "      <td>(((((((((((..........)))))).(((((((((.((((((((...</td>\n",
       "      <td>18.817662</td>\n",
       "      <td>404.884757</td>\n",
       "      <td>-67.4</td>\n",
       "      <td>-0.511715</td>\n",
       "      <td>4</td>\n",
       "      <td>6.006048</td>\n",
       "      <td>(0, 1, 2, 3, 4, 5, 6, 7, 8, 9, 10, 11, 12, 13,...</td>\n",
       "    </tr>\n",
       "    <tr>\n",
       "      <th>4</th>\n",
       "      <td>5</td>\n",
       "      <td>5</td>\n",
       "      <td>None</td>\n",
       "      <td>0.997495</td>\n",
       "      <td>1</td>\n",
       "      <td>0</td>\n",
       "      <td>0</td>\n",
       "      <td>GUACGGAGGCUGUUAGGCAGCCACUGGCCCAUCUCUUACACAGGCU...</td>\n",
       "      <td>15</td>\n",
       "      <td>-13</td>\n",
       "      <td>...</td>\n",
       "      <td>0</td>\n",
       "      <td>1</td>\n",
       "      <td>(((((..((((((...)))))).(((.....(((((((((((...(...</td>\n",
       "      <td>22.285955</td>\n",
       "      <td>529.074249</td>\n",
       "      <td>-50.9</td>\n",
       "      <td>-0.362944</td>\n",
       "      <td>5</td>\n",
       "      <td>5.986989</td>\n",
       "      <td>(0, 1, 2, 3, 4, 5, 6, 7, 8, 9, 10, 11, 12, 13,...</td>\n",
       "    </tr>\n",
       "  </tbody>\n",
       "</table>\n",
       "<p>5 rows × 26 columns</p>\n",
       "</div>"
      ],
      "text/plain": [
       "   rowid  miRNA forward_mut  frac_avg  replicate  lowCounts_y  outlier_y  \\\n",
       "0      1      1        None  0.998386          1            0          0   \n",
       "1      2      2        None  0.998126          1            0          0   \n",
       "2      3      3        None  0.997694          1            0          0   \n",
       "3      4      4        None  0.997542          1            0          0   \n",
       "4      5      5        None  0.997495          1            0          0   \n",
       "\n",
       "                                                 seq  fiveEnd  threeEnd  ...  \\\n",
       "0  GUACGGAGGCUGUUAGGCAGACACAAACUGUGAAGUGCUGUGGAUU...       10       -10  ...   \n",
       "1  GUACGGAGGCUGUUAGGCAGCACUCGCUCCCACCUUGUCCUCACGG...       15       -13  ...   \n",
       "2  GUACGGAGGCUGUUAGGCAGACUCCUCAUGGCCUCACUUUUCCACU...        9        -9  ...   \n",
       "3  GUACGGAGGCUGUUAGGCAGAAGCCUUGUGUUCCAGCCCGAGGCCU...       10        -8  ...   \n",
       "4  GUACGGAGGCUGUUAGGCAGCCACUGGCCCAUCUCUUACACAGGCU...       15       -13  ...   \n",
       "\n",
       "  UGU  CNNC                                        dot_bracket    compact  \\\n",
       "0   0     1  ((((....((((((..((((.(((...(((((((((((((((((((...  23.822519   \n",
       "1   0     1  (((((...(((((...))))).((((((.(((((.((.(((((.((...  22.298016   \n",
       "2   0     0  ....((((.((((...)))).))))......((((((((.((((((...  21.073267   \n",
       "3   0     0  (((((((((((..........)))))).(((((((((.((((((((...  18.817662   \n",
       "4   0     1  (((((..((((((...)))))).(((.....(((((((((((...(...  22.285955   \n",
       "\n",
       "   hairpin_score  minimum_free_energy  ensemble_free_energy  basename  \\\n",
       "0     337.293747                -59.5             -0.440509         1   \n",
       "1     384.374378                -58.6             -0.421181         2   \n",
       "2     273.538719                -71.7             -0.512519         3   \n",
       "3     404.884757                -67.4             -0.511715         4   \n",
       "4     529.074249                -50.9             -0.362944         5   \n",
       "\n",
       "      logit                                              graph  \n",
       "0  6.427601  (0, 1, 2, 3, 4, 5, 6, 7, 8, 9, 10, 11, 12, 13,...  \n",
       "1  6.277715  (0, 1, 2, 3, 4, 5, 6, 7, 8, 9, 10, 11, 12, 13,...  \n",
       "2  6.070139  (0, 1, 2, 3, 4, 5, 6, 7, 8, 9, 10, 11, 12, 13,...  \n",
       "3  6.006048  (0, 1, 2, 3, 4, 5, 6, 7, 8, 9, 10, 11, 12, 13,...  \n",
       "4  5.986989  (0, 1, 2, 3, 4, 5, 6, 7, 8, 9, 10, 11, 12, 13,...  \n",
       "\n",
       "[5 rows x 26 columns]"
      ]
     },
     "execution_count": 38,
     "metadata": {},
     "output_type": "execute_result"
    }
   ],
   "source": [
    "df = (\n",
    "    pd.read_csv(\"https://drosha-data.fly.dev/drosha/combined.csv?_stream=on&_sort=rowid&replicate__exact=1&_size=max\")\n",
    "    .join_apply(lambda row: to_networkx(row[\"dot_bracket\"]), \"graph\")\n",
    ")\n",
    "df.head()"
   ]
  },
  {
   "cell_type": "code",
   "execution_count": 45,
   "id": "transparent-occasion",
   "metadata": {},
   "outputs": [],
   "source": [
    "entropy = pd.read_csv(\"https://drosha-data.fly.dev/drosha/entropy.csv?_labels=on&_stream=on&_sort=rowid&rowid__lte=847&_size=max\").select_columns([\"shannon_*\"])"
   ]
  },
  {
   "cell_type": "code",
   "execution_count": 46,
   "id": "polar-satin",
   "metadata": {},
   "outputs": [
    {
     "data": {
      "text/html": [
       "<div>\n",
       "<style scoped>\n",
       "    .dataframe tbody tr th:only-of-type {\n",
       "        vertical-align: middle;\n",
       "    }\n",
       "\n",
       "    .dataframe tbody tr th {\n",
       "        vertical-align: top;\n",
       "    }\n",
       "\n",
       "    .dataframe thead th {\n",
       "        text-align: right;\n",
       "    }\n",
       "</style>\n",
       "<table border=\"1\" class=\"dataframe\">\n",
       "  <thead>\n",
       "    <tr style=\"text-align: right;\">\n",
       "      <th></th>\n",
       "      <th>shannon_1</th>\n",
       "      <th>shannon_2</th>\n",
       "      <th>shannon_3</th>\n",
       "      <th>shannon_4</th>\n",
       "      <th>shannon_5</th>\n",
       "      <th>shannon_6</th>\n",
       "      <th>shannon_7</th>\n",
       "      <th>shannon_8</th>\n",
       "      <th>shannon_9</th>\n",
       "      <th>shannon_10</th>\n",
       "      <th>...</th>\n",
       "      <th>shannon_161</th>\n",
       "      <th>shannon_162</th>\n",
       "      <th>shannon_163</th>\n",
       "      <th>shannon_164</th>\n",
       "      <th>shannon_165</th>\n",
       "      <th>shannon_166</th>\n",
       "      <th>shannon_167</th>\n",
       "      <th>shannon_168</th>\n",
       "      <th>shannon_169</th>\n",
       "      <th>shannon_170</th>\n",
       "    </tr>\n",
       "  </thead>\n",
       "  <tbody>\n",
       "    <tr>\n",
       "      <th>0</th>\n",
       "      <td>0.093327</td>\n",
       "      <td>0.132150</td>\n",
       "      <td>0.132671</td>\n",
       "      <td>0.232952</td>\n",
       "      <td>0.292199</td>\n",
       "      <td>0.097116</td>\n",
       "      <td>0.093368</td>\n",
       "      <td>0.092654</td>\n",
       "      <td>0.442830</td>\n",
       "      <td>0.650076</td>\n",
       "      <td>...</td>\n",
       "      <td>-1.0</td>\n",
       "      <td>-1.0</td>\n",
       "      <td>-1.0</td>\n",
       "      <td>-1.0</td>\n",
       "      <td>-1.0</td>\n",
       "      <td>-1.0</td>\n",
       "      <td>-1.0</td>\n",
       "      <td>-1.0</td>\n",
       "      <td>-1.0</td>\n",
       "      <td>-1.0</td>\n",
       "    </tr>\n",
       "    <tr>\n",
       "      <th>1</th>\n",
       "      <td>0.032027</td>\n",
       "      <td>0.048495</td>\n",
       "      <td>0.048561</td>\n",
       "      <td>0.071540</td>\n",
       "      <td>0.203048</td>\n",
       "      <td>0.182248</td>\n",
       "      <td>0.178692</td>\n",
       "      <td>0.202356</td>\n",
       "      <td>0.087521</td>\n",
       "      <td>0.091389</td>\n",
       "      <td>...</td>\n",
       "      <td>-1.0</td>\n",
       "      <td>-1.0</td>\n",
       "      <td>-1.0</td>\n",
       "      <td>-1.0</td>\n",
       "      <td>-1.0</td>\n",
       "      <td>-1.0</td>\n",
       "      <td>-1.0</td>\n",
       "      <td>-1.0</td>\n",
       "      <td>-1.0</td>\n",
       "      <td>-1.0</td>\n",
       "    </tr>\n",
       "    <tr>\n",
       "      <th>2</th>\n",
       "      <td>0.193411</td>\n",
       "      <td>0.217418</td>\n",
       "      <td>0.175848</td>\n",
       "      <td>0.174624</td>\n",
       "      <td>0.082767</td>\n",
       "      <td>0.115770</td>\n",
       "      <td>0.114511</td>\n",
       "      <td>0.127746</td>\n",
       "      <td>0.111877</td>\n",
       "      <td>0.057724</td>\n",
       "      <td>...</td>\n",
       "      <td>-1.0</td>\n",
       "      <td>-1.0</td>\n",
       "      <td>-1.0</td>\n",
       "      <td>-1.0</td>\n",
       "      <td>-1.0</td>\n",
       "      <td>-1.0</td>\n",
       "      <td>-1.0</td>\n",
       "      <td>-1.0</td>\n",
       "      <td>-1.0</td>\n",
       "      <td>-1.0</td>\n",
       "    </tr>\n",
       "    <tr>\n",
       "      <th>3</th>\n",
       "      <td>0.061604</td>\n",
       "      <td>0.071435</td>\n",
       "      <td>0.095937</td>\n",
       "      <td>0.171910</td>\n",
       "      <td>0.266387</td>\n",
       "      <td>0.173177</td>\n",
       "      <td>0.140964</td>\n",
       "      <td>0.220340</td>\n",
       "      <td>0.408112</td>\n",
       "      <td>0.470108</td>\n",
       "      <td>...</td>\n",
       "      <td>-1.0</td>\n",
       "      <td>-1.0</td>\n",
       "      <td>-1.0</td>\n",
       "      <td>-1.0</td>\n",
       "      <td>-1.0</td>\n",
       "      <td>-1.0</td>\n",
       "      <td>-1.0</td>\n",
       "      <td>-1.0</td>\n",
       "      <td>-1.0</td>\n",
       "      <td>-1.0</td>\n",
       "    </tr>\n",
       "    <tr>\n",
       "      <th>4</th>\n",
       "      <td>0.124070</td>\n",
       "      <td>0.137540</td>\n",
       "      <td>0.102726</td>\n",
       "      <td>0.232545</td>\n",
       "      <td>0.294623</td>\n",
       "      <td>0.135824</td>\n",
       "      <td>0.001541</td>\n",
       "      <td>0.017573</td>\n",
       "      <td>0.078687</td>\n",
       "      <td>0.080727</td>\n",
       "      <td>...</td>\n",
       "      <td>-1.0</td>\n",
       "      <td>-1.0</td>\n",
       "      <td>-1.0</td>\n",
       "      <td>-1.0</td>\n",
       "      <td>-1.0</td>\n",
       "      <td>-1.0</td>\n",
       "      <td>-1.0</td>\n",
       "      <td>-1.0</td>\n",
       "      <td>-1.0</td>\n",
       "      <td>-1.0</td>\n",
       "    </tr>\n",
       "    <tr>\n",
       "      <th>...</th>\n",
       "      <td>...</td>\n",
       "      <td>...</td>\n",
       "      <td>...</td>\n",
       "      <td>...</td>\n",
       "      <td>...</td>\n",
       "      <td>...</td>\n",
       "      <td>...</td>\n",
       "      <td>...</td>\n",
       "      <td>...</td>\n",
       "      <td>...</td>\n",
       "      <td>...</td>\n",
       "      <td>...</td>\n",
       "      <td>...</td>\n",
       "      <td>...</td>\n",
       "      <td>...</td>\n",
       "      <td>...</td>\n",
       "      <td>...</td>\n",
       "      <td>...</td>\n",
       "      <td>...</td>\n",
       "      <td>...</td>\n",
       "      <td>...</td>\n",
       "    </tr>\n",
       "    <tr>\n",
       "      <th>842</th>\n",
       "      <td>0.078119</td>\n",
       "      <td>0.077245</td>\n",
       "      <td>0.077338</td>\n",
       "      <td>0.202875</td>\n",
       "      <td>0.247116</td>\n",
       "      <td>0.000279</td>\n",
       "      <td>0.000042</td>\n",
       "      <td>0.003764</td>\n",
       "      <td>0.076561</td>\n",
       "      <td>0.041684</td>\n",
       "      <td>...</td>\n",
       "      <td>-1.0</td>\n",
       "      <td>-1.0</td>\n",
       "      <td>-1.0</td>\n",
       "      <td>-1.0</td>\n",
       "      <td>-1.0</td>\n",
       "      <td>-1.0</td>\n",
       "      <td>-1.0</td>\n",
       "      <td>-1.0</td>\n",
       "      <td>-1.0</td>\n",
       "      <td>-1.0</td>\n",
       "    </tr>\n",
       "    <tr>\n",
       "      <th>843</th>\n",
       "      <td>0.067294</td>\n",
       "      <td>0.067470</td>\n",
       "      <td>0.068231</td>\n",
       "      <td>0.183351</td>\n",
       "      <td>0.279651</td>\n",
       "      <td>0.001304</td>\n",
       "      <td>0.000309</td>\n",
       "      <td>0.000228</td>\n",
       "      <td>0.187805</td>\n",
       "      <td>0.273305</td>\n",
       "      <td>...</td>\n",
       "      <td>-1.0</td>\n",
       "      <td>-1.0</td>\n",
       "      <td>-1.0</td>\n",
       "      <td>-1.0</td>\n",
       "      <td>-1.0</td>\n",
       "      <td>-1.0</td>\n",
       "      <td>-1.0</td>\n",
       "      <td>-1.0</td>\n",
       "      <td>-1.0</td>\n",
       "      <td>-1.0</td>\n",
       "    </tr>\n",
       "    <tr>\n",
       "      <th>844</th>\n",
       "      <td>0.018254</td>\n",
       "      <td>0.018222</td>\n",
       "      <td>0.017389</td>\n",
       "      <td>0.030802</td>\n",
       "      <td>0.329055</td>\n",
       "      <td>0.294726</td>\n",
       "      <td>0.230599</td>\n",
       "      <td>0.116600</td>\n",
       "      <td>0.011486</td>\n",
       "      <td>0.007482</td>\n",
       "      <td>...</td>\n",
       "      <td>-1.0</td>\n",
       "      <td>-1.0</td>\n",
       "      <td>-1.0</td>\n",
       "      <td>-1.0</td>\n",
       "      <td>-1.0</td>\n",
       "      <td>-1.0</td>\n",
       "      <td>-1.0</td>\n",
       "      <td>-1.0</td>\n",
       "      <td>-1.0</td>\n",
       "      <td>-1.0</td>\n",
       "    </tr>\n",
       "    <tr>\n",
       "      <th>845</th>\n",
       "      <td>0.278459</td>\n",
       "      <td>0.301325</td>\n",
       "      <td>0.302813</td>\n",
       "      <td>0.407172</td>\n",
       "      <td>0.374801</td>\n",
       "      <td>0.144067</td>\n",
       "      <td>0.234351</td>\n",
       "      <td>0.288424</td>\n",
       "      <td>0.280608</td>\n",
       "      <td>0.465083</td>\n",
       "      <td>...</td>\n",
       "      <td>-1.0</td>\n",
       "      <td>-1.0</td>\n",
       "      <td>-1.0</td>\n",
       "      <td>-1.0</td>\n",
       "      <td>-1.0</td>\n",
       "      <td>-1.0</td>\n",
       "      <td>-1.0</td>\n",
       "      <td>-1.0</td>\n",
       "      <td>-1.0</td>\n",
       "      <td>-1.0</td>\n",
       "    </tr>\n",
       "    <tr>\n",
       "      <th>846</th>\n",
       "      <td>0.070540</td>\n",
       "      <td>0.069981</td>\n",
       "      <td>0.070037</td>\n",
       "      <td>0.189631</td>\n",
       "      <td>0.274017</td>\n",
       "      <td>0.000162</td>\n",
       "      <td>0.000065</td>\n",
       "      <td>0.000053</td>\n",
       "      <td>0.090176</td>\n",
       "      <td>0.160579</td>\n",
       "      <td>...</td>\n",
       "      <td>-1.0</td>\n",
       "      <td>-1.0</td>\n",
       "      <td>-1.0</td>\n",
       "      <td>-1.0</td>\n",
       "      <td>-1.0</td>\n",
       "      <td>-1.0</td>\n",
       "      <td>-1.0</td>\n",
       "      <td>-1.0</td>\n",
       "      <td>-1.0</td>\n",
       "      <td>-1.0</td>\n",
       "    </tr>\n",
       "  </tbody>\n",
       "</table>\n",
       "<p>847 rows × 170 columns</p>\n",
       "</div>"
      ],
      "text/plain": [
       "     shannon_1  shannon_2  shannon_3  shannon_4  shannon_5  shannon_6  \\\n",
       "0     0.093327   0.132150   0.132671   0.232952   0.292199   0.097116   \n",
       "1     0.032027   0.048495   0.048561   0.071540   0.203048   0.182248   \n",
       "2     0.193411   0.217418   0.175848   0.174624   0.082767   0.115770   \n",
       "3     0.061604   0.071435   0.095937   0.171910   0.266387   0.173177   \n",
       "4     0.124070   0.137540   0.102726   0.232545   0.294623   0.135824   \n",
       "..         ...        ...        ...        ...        ...        ...   \n",
       "842   0.078119   0.077245   0.077338   0.202875   0.247116   0.000279   \n",
       "843   0.067294   0.067470   0.068231   0.183351   0.279651   0.001304   \n",
       "844   0.018254   0.018222   0.017389   0.030802   0.329055   0.294726   \n",
       "845   0.278459   0.301325   0.302813   0.407172   0.374801   0.144067   \n",
       "846   0.070540   0.069981   0.070037   0.189631   0.274017   0.000162   \n",
       "\n",
       "     shannon_7  shannon_8  shannon_9  shannon_10  ...  shannon_161  \\\n",
       "0     0.093368   0.092654   0.442830    0.650076  ...         -1.0   \n",
       "1     0.178692   0.202356   0.087521    0.091389  ...         -1.0   \n",
       "2     0.114511   0.127746   0.111877    0.057724  ...         -1.0   \n",
       "3     0.140964   0.220340   0.408112    0.470108  ...         -1.0   \n",
       "4     0.001541   0.017573   0.078687    0.080727  ...         -1.0   \n",
       "..         ...        ...        ...         ...  ...          ...   \n",
       "842   0.000042   0.003764   0.076561    0.041684  ...         -1.0   \n",
       "843   0.000309   0.000228   0.187805    0.273305  ...         -1.0   \n",
       "844   0.230599   0.116600   0.011486    0.007482  ...         -1.0   \n",
       "845   0.234351   0.288424   0.280608    0.465083  ...         -1.0   \n",
       "846   0.000065   0.000053   0.090176    0.160579  ...         -1.0   \n",
       "\n",
       "     shannon_162  shannon_163  shannon_164  shannon_165  shannon_166  \\\n",
       "0           -1.0         -1.0         -1.0         -1.0         -1.0   \n",
       "1           -1.0         -1.0         -1.0         -1.0         -1.0   \n",
       "2           -1.0         -1.0         -1.0         -1.0         -1.0   \n",
       "3           -1.0         -1.0         -1.0         -1.0         -1.0   \n",
       "4           -1.0         -1.0         -1.0         -1.0         -1.0   \n",
       "..           ...          ...          ...          ...          ...   \n",
       "842         -1.0         -1.0         -1.0         -1.0         -1.0   \n",
       "843         -1.0         -1.0         -1.0         -1.0         -1.0   \n",
       "844         -1.0         -1.0         -1.0         -1.0         -1.0   \n",
       "845         -1.0         -1.0         -1.0         -1.0         -1.0   \n",
       "846         -1.0         -1.0         -1.0         -1.0         -1.0   \n",
       "\n",
       "     shannon_167  shannon_168  shannon_169  shannon_170  \n",
       "0           -1.0         -1.0         -1.0         -1.0  \n",
       "1           -1.0         -1.0         -1.0         -1.0  \n",
       "2           -1.0         -1.0         -1.0         -1.0  \n",
       "3           -1.0         -1.0         -1.0         -1.0  \n",
       "4           -1.0         -1.0         -1.0         -1.0  \n",
       "..           ...          ...          ...          ...  \n",
       "842         -1.0         -1.0         -1.0         -1.0  \n",
       "843         -1.0         -1.0         -1.0         -1.0  \n",
       "844         -1.0         -1.0         -1.0         -1.0  \n",
       "845         -1.0         -1.0         -1.0         -1.0  \n",
       "846         -1.0         -1.0         -1.0         -1.0  \n",
       "\n",
       "[847 rows x 170 columns]"
      ]
     },
     "execution_count": 46,
     "metadata": {},
     "output_type": "execute_result"
    }
   ],
   "source": [
    "entropy"
   ]
  },
  {
   "cell_type": "markdown",
   "id": "every-manual",
   "metadata": {},
   "source": [
    "## Annotate node entropy and node nucleotide on each of the graphs"
   ]
  },
  {
   "cell_type": "code",
   "execution_count": 47,
   "id": "quantitative-liabilities",
   "metadata": {},
   "outputs": [
    {
     "data": {
      "application/vnd.jupyter.widget-view+json": {
       "model_id": "673f0aaecf9443a293eb43496a601f0f",
       "version_major": 2,
       "version_minor": 0
      },
      "text/plain": [
       "  0%|          | 0/847 [00:00<?, ?it/s]"
      ]
     },
     "metadata": {},
     "output_type": "display_data"
    }
   ],
   "source": [
    "from tqdm.auto import tqdm\n",
    "\n",
    "graphs = df[\"graph\"].to_dict()\n",
    "for idx, g in tqdm(graphs.items()):\n",
    "    seq = df.loc[idx][\"seq\"]\n",
    "    g = annotate.node_nucleotide(g, seq)\n",
    "\n",
    "    entropy_vec = entropy.loc[idx]\n",
    "    g = annotate.node_entropy(g, entropy_vec)\n",
    "    graphs[idx] = g"
   ]
  },
  {
   "cell_type": "markdown",
   "id": "foreign-samba",
   "metadata": {},
   "source": [
    "## Prepare graph data structures for us to use"
   ]
  },
  {
   "cell_type": "code",
   "execution_count": 60,
   "id": "honest-luther",
   "metadata": {},
   "outputs": [],
   "source": [
    "from drosha_gnn.data import prep_feats, prep_adjs, feat_matrix"
   ]
  },
  {
   "cell_type": "code",
   "execution_count": 61,
   "id": "varying-murder",
   "metadata": {},
   "outputs": [
    {
     "data": {
      "application/vnd.jupyter.widget-view+json": {
       "model_id": "57cfd28427a34b0b9ac67b8600c84ca3",
       "version_major": 2,
       "version_minor": 0
      },
      "text/plain": [
       "  0%|          | 0/847 [00:00<?, ?it/s]"
      ]
     },
     "metadata": {},
     "output_type": "display_data"
    }
   ],
   "source": [
    "feat_matrices = dict()\n",
    "for idx, graph in tqdm(graphs.items()):\n",
    "    feat_matrices[idx] = prep_feats(feat_matrix(graph), 170)"
   ]
  },
  {
   "cell_type": "code",
   "execution_count": 62,
   "id": "developmental-blanket",
   "metadata": {},
   "outputs": [
    {
     "data": {
      "application/vnd.jupyter.widget-view+json": {
       "model_id": "a00c2d89b6b24a0aa316d14e0bc3c234",
       "version_major": 2,
       "version_minor": 0
      },
      "text/plain": [
       "  0%|          | 0/847 [00:00<?, ?it/s]"
      ]
     },
     "metadata": {},
     "output_type": "display_data"
    }
   ],
   "source": [
    "import networkx as nx\n",
    "adj_matrices = dict()\n",
    "for idx, graph in tqdm(graphs.items()):\n",
    "    adj_matrices[idx] = prep_adjs(np.array(nx.adjacency_matrix(graph).todense()), 170)"
   ]
  },
  {
   "cell_type": "code",
   "execution_count": 146,
   "id": "played-bible",
   "metadata": {},
   "outputs": [],
   "source": [
    "graph_matrices = dict()\n",
    "for (idx, adj), (idx2, feat) in zip(adj_matrices.items(), feat_matrices.items()):\n",
    "    graph_matrices[idx] = np.concatenate([adj, feat], axis=1)"
   ]
  },
  {
   "cell_type": "markdown",
   "id": "aboriginal-business",
   "metadata": {},
   "source": [
    "## Train test splits\n",
    "\n",
    "We need different train-test splits in order to test the uncertainty in model performance.feat_matrices = dict()\n",
    "for idx, graph in tqdm(graphs.items()):\n",
    "    feat_matrices[idx] = prep_feats(feat_matrix(graph), largest_graph_size)"
   ]
  },
  {
   "cell_type": "code",
   "execution_count": 66,
   "id": "pending-arrangement",
   "metadata": {},
   "outputs": [],
   "source": [
    "from jax.random import PRNGKey, split\n",
    "\n",
    "k1, k2, k3, k4, k5 = split(PRNGKey(38), 5)"
   ]
  },
  {
   "cell_type": "code",
   "execution_count": 71,
   "id": "coastal-underground",
   "metadata": {},
   "outputs": [],
   "source": [
    "from drosha_gnn.training import train_test_split"
   ]
  },
  {
   "cell_type": "code",
   "execution_count": 86,
   "id": "polyphonic-niger",
   "metadata": {},
   "outputs": [],
   "source": [
    "import pandas as pd\n",
    "import jax.numpy as np\n",
    "from jax import random\n",
    "from typing import Dict\n",
    "\n",
    "def split_data(k: random.PRNGKey, graph_matrices: Dict[int, np.ndarray], df: pd.DataFrame):\n",
    "    train_idxs, test_idxs = train_test_split(k1, df)\n",
    "    graph_series = pd.Series(graph_matrices)\n",
    "    X_train = np.stack(graph_series[train_idxs].values)\n",
    "    X_test = np.stack(graph_series[test_idxs].values)\n",
    "    y_train = df.loc[train_idxs, \"logit\"].values.reshape(-1, 1)\n",
    "    y_test = df.loc[test_idxs, \"logit\"].values.reshape(-1, 1)\n",
    "    return X_train, X_test, y_train, y_test"
   ]
  },
  {
   "cell_type": "code",
   "execution_count": 132,
   "id": "utility-painting",
   "metadata": {},
   "outputs": [],
   "source": [
    "# Just test-driving\n",
    "X_train, X_test, y_train, y_test = split_data(k2, graph_matrices, df)"
   ]
  },
  {
   "cell_type": "code",
   "execution_count": 133,
   "id": "round-craps",
   "metadata": {},
   "outputs": [
    {
     "data": {
      "text/plain": [
       "(592, 1)"
      ]
     },
     "execution_count": 133,
     "metadata": {},
     "output_type": "execute_result"
    }
   ],
   "source": [
    "y_train.shape"
   ]
  },
  {
   "cell_type": "code",
   "execution_count": 134,
   "id": "weighted-efficiency",
   "metadata": {},
   "outputs": [],
   "source": [
    "from drosha_gnn.models import AttentionEverywhereGNN\n",
    "from jax.tree_util import Partial\n",
    "\n",
    "init_fun, model = AttentionEverywhereGNN(170)\n",
    "model = Partial(model)\n",
    "_, params = init_fun(k1, input_shape=(170, 2))"
   ]
  },
  {
   "cell_type": "markdown",
   "id": "drawn-penetration",
   "metadata": {},
   "source": [
    "## Forward pass"
   ]
  },
  {
   "cell_type": "code",
   "execution_count": 135,
   "id": "pleasant-savage",
   "metadata": {},
   "outputs": [],
   "source": [
    "from jax import vmap"
   ]
  },
  {
   "cell_type": "markdown",
   "id": "simplified-kidney",
   "metadata": {},
   "source": [
    "## Training Loop\n",
    "\n",
    "We are going to define the training loop entirely using JAX's lax.scan and vmap.\n",
    "\n",
    "Thinking about the entire training loop as a pure function helps us avoid statefulness,\n",
    "which makes modifying the code a bit easier.\n",
    "It does make writing the training loop a bit more difficult though."
   ]
  },
  {
   "cell_type": "markdown",
   "id": "green-decline",
   "metadata": {},
   "source": [
    "In each step, we want to do the following:\n",
    "\n",
    "1. Sample a minibatch of X and y.\n",
    "2. Calculate gradient of loss function w.r.t. params, conditioned on model and data,\n",
    "3. Update params.\n",
    "\n",
    "If we need to do different splits at each step, we effectively need an array of PRNG keys that we can scan over."
   ]
  },
  {
   "cell_type": "code",
   "execution_count": 147,
   "id": "wrong-village",
   "metadata": {},
   "outputs": [],
   "source": [
    "key = random.PRNGKey(99)\n",
    "n_training_steps = 10\n",
    "keys = random.split(key, n_training_steps)"
   ]
  },
  {
   "cell_type": "code",
   "execution_count": 208,
   "id": "casual-lambda",
   "metadata": {},
   "outputs": [
    {
     "data": {
      "text/plain": [
       "(10, 2)"
      ]
     },
     "execution_count": 208,
     "metadata": {},
     "output_type": "execute_result"
    }
   ],
   "source": [
    "keys.shape"
   ]
  },
  {
   "cell_type": "code",
   "execution_count": 209,
   "id": "sound-inquiry",
   "metadata": {},
   "outputs": [
    {
     "data": {
      "text/plain": [
       "(10, 1)"
      ]
     },
     "execution_count": 209,
     "metadata": {},
     "output_type": "execute_result"
    }
   ],
   "source": [
    "training_step_idxs.shape"
   ]
  },
  {
   "cell_type": "code",
   "execution_count": 276,
   "id": "closed-wrong",
   "metadata": {},
   "outputs": [],
   "source": [
    "training_step_idxs = np.arange(n_training_steps)"
   ]
  },
  {
   "cell_type": "markdown",
   "id": "described-psychiatry",
   "metadata": {},
   "source": [
    "Our `lax.scan`-able step function needs to have the signature f(carry, x).\n",
    "\n",
    "`x` would be the current iteration _and_ PRNGKey together.\n",
    "`carry` is something carried over from the previous step, which would be the state.\n",
    "We return the thing to carry over (updated state), and a tuple of things that we want to accumulate over steps."
   ]
  },
  {
   "cell_type": "code",
   "execution_count": 319,
   "id": "scheduled-spare",
   "metadata": {},
   "outputs": [],
   "source": [
    "def sample(rng: random.PRNGKey, X: np.ndarray, y: np.ndarray, n=50):\n",
    "    \"\"\"Sample n rows from X and y.\n",
    "    \n",
    "    Used to generate minibatches for faster training.\n",
    "    \"\"\"\n",
    "    indices = np.arange(len(X))\n",
    "    indices = random.permutation(rng, indices)\n",
    "    return X[:n], y[:n]\n",
    "\n",
    "\n",
    "def step(state, i: int, X: np.ndarray, y: np.ndarray, dmseloss: Callable, get_params: Callable, update: Callable):\n",
    "    \"\"\"Full step function.\n",
    "    \n",
    "    - X, y: Our data.\n",
    "    - dmseloss: Gradient of loss function.\n",
    "    - get_params, update: get_params and update function from optimizer triple.\n",
    "    \"\"\"\n",
    "    params = get_params(state)\n",
    "    l, g = dmseloss(params, model, X, y)\n",
    "    state = update(i, g, state)\n",
    "    return state, l\n",
    "\n",
    "\n",
    "\n",
    "def step_v2(state, idx_and_key: int, X: np.ndarray, y: np.ndarray, dmseloss: Callable, get_params: Callable, update: Callable):\n",
    "    \"\"\"Full step function.\n",
    "    \n",
    "    - X, y: Our data.\n",
    "    - dmseloss: Gradient of loss function.\n",
    "    - get_params, update: get_params and update function from optimizer triple.\n",
    "    \"\"\"\n",
    "    i, key = idx_and_key\n",
    "    # X, y = sample(key, X, y)\n",
    "    params = get_params(state)\n",
    "    l, g = dmseloss(params, model, X, y)\n",
    "    state = update(i, g, state)\n",
    "    return state, l"
   ]
  },
  {
   "cell_type": "code",
   "execution_count": 320,
   "id": "monthly-projector",
   "metadata": {},
   "outputs": [],
   "source": [
    "from jax.experimental.optimizers import adam\n",
    "from jax import jit\n",
    "from drosha_gnn.training import dmseloss, mseloss\n",
    "from typing import Callable\n",
    "\n",
    "opt_init, opt_update, opt_get_params = adam(5e-3)\n",
    "opt_get_params = jit(opt_get_params)\n",
    "adam_step = Partial(step_v2, X=X_train, y=y_train, dmseloss=dmseloss, get_params=opt_get_params, update=opt_update)\n",
    "adam_step = jit(adam_step)"
   ]
  },
  {
   "cell_type": "code",
   "execution_count": 324,
   "id": "decreased-nigeria",
   "metadata": {},
   "outputs": [
    {
     "name": "stdout",
     "output_type": "stream",
     "text": [
      "Time: 43.86 seconds\n"
     ]
    },
    {
     "data": {
      "image/png": "[encoded data removed]",
      "text/plain": [
       "<Figure size 432x288 with 1 Axes>"
      ]
     },
     "metadata": {
      "image/png": {
       "height": 248,
       "width": 384
      },
      "needs_background": "light"
     },
     "output_type": "display_data"
    }
   ],
   "source": [
    "from time import time\n",
    "\n",
    "start = time()\n",
    "state = opt_init(params)\n",
    "final_state, losses = lax.scan(adam_step, xs=(training_step_idxs, keys), init=state)\n",
    "plt.plot(losses)\n",
    "end = time()\n",
    "print(f\"Time: {end - start:.2f} seconds\")"
   ]
  },
  {
   "cell_type": "code",
   "execution_count": null,
   "id": "combined-first",
   "metadata": {},
   "outputs": [],
   "source": []
  },
  {
   "cell_type": "code",
   "execution_count": null,
   "id": "indie-netherlands",
   "metadata": {},
   "outputs": [],
   "source": []
  },
  {
   "cell_type": "code",
   "execution_count": null,
   "id": "hidden-colon",
   "metadata": {},
   "outputs": [],
   "source": []
  },
  {
   "cell_type": "code",
   "execution_count": null,
   "id": "painted-offset",
   "metadata": {},
   "outputs": [],
   "source": []
  },
  {
   "cell_type": "code",
   "execution_count": null,
   "id": "removed-allocation",
   "metadata": {},
   "outputs": [],
   "source": []
  },
  {
   "cell_type": "code",
   "execution_count": null,
   "id": "ruled-expert",
   "metadata": {},
   "outputs": [],
   "source": []
  },
  {
   "cell_type": "code",
   "execution_count": null,
   "id": "organized-cartridge",
   "metadata": {},
   "outputs": [],
   "source": []
  },
  {
   "cell_type": "code",
   "execution_count": null,
   "id": "stainless-lawrence",
   "metadata": {},
   "outputs": [],
   "source": []
  },
  {
   "cell_type": "code",
   "execution_count": null,
   "id": "communist-defendant",
   "metadata": {},
   "outputs": [],
   "source": []
  },
  {
   "cell_type": "code",
   "execution_count": 136,
   "id": "temporal-mentor",
   "metadata": {},
   "outputs": [],
   "source": [
    "def train_iter(i):\n",
    "    l_train, state = step(i, state, X_train, y_train)"
   ]
  },
  {
   "cell_type": "code",
   "execution_count": 137,
   "id": "selected-theater",
   "metadata": {},
   "outputs": [
    {
     "data": {
      "application/vnd.jupyter.widget-view+json": {
       "model_id": "6e83857c7a2745b3888a72ef09fe6a58",
       "version_major": 2,
       "version_minor": 0
      },
      "text/plain": [
       "Training Loss:   0%|          | 0/200 [00:00<?, ?it/s]"
      ]
     },
     "metadata": {},
     "output_type": "display_data"
    },
    {
     "ename": "KeyboardInterrupt",
     "evalue": "",
     "output_type": "error",
     "traceback": [
      "\u001b[0;31m---------------------------------------------------------------------------\u001b[0m",
      "\u001b[0;31mKeyboardInterrupt\u001b[0m                         Traceback (most recent call last)",
      "\u001b[0;32m<ipython-input-137-d98460a6b0b0>\u001b[0m in \u001b[0;36m<module>\u001b[0;34m\u001b[0m\n\u001b[1;32m     42\u001b[0m \u001b[0mstates\u001b[0m \u001b[0;34m=\u001b[0m \u001b[0;34m[\u001b[0m\u001b[0;34m]\u001b[0m\u001b[0;34m\u001b[0m\u001b[0;34m\u001b[0m\u001b[0m\n\u001b[1;32m     43\u001b[0m \u001b[0;32mfor\u001b[0m \u001b[0mi\u001b[0m \u001b[0;32min\u001b[0m \u001b[0miterator\u001b[0m\u001b[0;34m:\u001b[0m\u001b[0;34m\u001b[0m\u001b[0;34m\u001b[0m\u001b[0m\n\u001b[0;32m---> 44\u001b[0;31m     \u001b[0ml_train\u001b[0m\u001b[0;34m,\u001b[0m \u001b[0mstate\u001b[0m\u001b[0;34m,\u001b[0m \u001b[0mkey\u001b[0m \u001b[0;34m=\u001b[0m \u001b[0madam_step\u001b[0m\u001b[0;34m(\u001b[0m\u001b[0mi\u001b[0m\u001b[0;34m,\u001b[0m \u001b[0mstate\u001b[0m\u001b[0;34m,\u001b[0m \u001b[0mX_train\u001b[0m\u001b[0;34m,\u001b[0m \u001b[0my_train\u001b[0m\u001b[0;34m,\u001b[0m \u001b[0mkey\u001b[0m\u001b[0;34m)\u001b[0m\u001b[0;34m\u001b[0m\u001b[0;34m\u001b[0m\u001b[0m\n\u001b[0m\u001b[1;32m     45\u001b[0m     \u001b[0mlosses_train\u001b[0m\u001b[0;34m.\u001b[0m\u001b[0mappend\u001b[0m\u001b[0;34m(\u001b[0m\u001b[0ml_train\u001b[0m\u001b[0;34m)\u001b[0m\u001b[0;34m\u001b[0m\u001b[0;34m\u001b[0m\u001b[0m\n\u001b[1;32m     46\u001b[0m \u001b[0;34m\u001b[0m\u001b[0m\n",
      "\u001b[0;32m~/anaconda/envs/drosha-gnn/lib/python3.8/site-packages/jax/api.py\u001b[0m in \u001b[0;36mf_jitted\u001b[0;34m(*args, **kwargs)\u001b[0m\n\u001b[1;32m    414\u001b[0m         \u001b[0;32mreturn\u001b[0m \u001b[0mcpp_jitted_f\u001b[0m\u001b[0;34m(\u001b[0m\u001b[0;34m*\u001b[0m\u001b[0margs\u001b[0m\u001b[0;34m,\u001b[0m \u001b[0;34m**\u001b[0m\u001b[0mkwargs\u001b[0m\u001b[0;34m)\u001b[0m\u001b[0;34m\u001b[0m\u001b[0;34m\u001b[0m\u001b[0m\n\u001b[1;32m    415\u001b[0m       \u001b[0;32melse\u001b[0m\u001b[0;34m:\u001b[0m\u001b[0;34m\u001b[0m\u001b[0;34m\u001b[0m\u001b[0m\n\u001b[0;32m--> 416\u001b[0;31m         \u001b[0;32mreturn\u001b[0m \u001b[0mcpp_jitted_f\u001b[0m\u001b[0;34m(\u001b[0m\u001b[0mcontext\u001b[0m\u001b[0;34m,\u001b[0m \u001b[0;34m*\u001b[0m\u001b[0margs\u001b[0m\u001b[0;34m,\u001b[0m \u001b[0;34m**\u001b[0m\u001b[0mkwargs\u001b[0m\u001b[0;34m)\u001b[0m\u001b[0;34m\u001b[0m\u001b[0;34m\u001b[0m\u001b[0m\n\u001b[0m\u001b[1;32m    417\u001b[0m     \u001b[0mf_jitted\u001b[0m\u001b[0;34m.\u001b[0m\u001b[0m_cpp_jitted_f\u001b[0m \u001b[0;34m=\u001b[0m \u001b[0mcpp_jitted_f\u001b[0m\u001b[0;34m\u001b[0m\u001b[0;34m\u001b[0m\u001b[0m\n\u001b[1;32m    418\u001b[0m   \u001b[0;32melse\u001b[0m\u001b[0;34m:\u001b[0m\u001b[0;34m\u001b[0m\u001b[0;34m\u001b[0m\u001b[0m\n",
      "\u001b[0;32m~/anaconda/envs/drosha-gnn/lib/python3.8/site-packages/jax/experimental/optimizers.py\u001b[0m in \u001b[0;36m<lambda>\u001b[0;34m(data, xs)\u001b[0m\n\u001b[1;32m    109\u001b[0m     \u001b[0mOptimizerState\u001b[0m\u001b[0;34m,\u001b[0m\u001b[0;34m\u001b[0m\u001b[0;34m\u001b[0m\u001b[0m\n\u001b[1;32m    110\u001b[0m     \u001b[0;32mlambda\u001b[0m \u001b[0mxs\u001b[0m\u001b[0;34m:\u001b[0m \u001b[0;34m(\u001b[0m\u001b[0;34m(\u001b[0m\u001b[0mxs\u001b[0m\u001b[0;34m.\u001b[0m\u001b[0mpacked_state\u001b[0m\u001b[0;34m,\u001b[0m\u001b[0;34m)\u001b[0m\u001b[0;34m,\u001b[0m \u001b[0;34m(\u001b[0m\u001b[0mxs\u001b[0m\u001b[0;34m.\u001b[0m\u001b[0mtree_def\u001b[0m\u001b[0;34m,\u001b[0m \u001b[0mxs\u001b[0m\u001b[0;34m.\u001b[0m\u001b[0msubtree_defs\u001b[0m\u001b[0;34m)\u001b[0m\u001b[0;34m)\u001b[0m\u001b[0;34m,\u001b[0m\u001b[0;34m\u001b[0m\u001b[0;34m\u001b[0m\u001b[0m\n\u001b[0;32m--> 111\u001b[0;31m     lambda data, xs: OptimizerState(xs[0], data[0], data[1]))\n\u001b[0m\u001b[1;32m    112\u001b[0m \u001b[0;34m\u001b[0m\u001b[0m\n\u001b[1;32m    113\u001b[0m \u001b[0;34m\u001b[0m\u001b[0m\n",
      "\u001b[0;31mKeyboardInterrupt\u001b[0m: "
     ]
    }
   ],
   "source": [
    "from jax.experimental.optimizers import adam\n",
    "from jax import jit\n",
    "from drosha_gnn.training import dmseloss, mseloss\n",
    "from typing import Callable\n",
    "\n",
    "opt_init, opt_update, opt_get_params = adam(5e-3)\n",
    "state = opt_init(params)\n",
    "opt_get_params = jit(opt_get_params)\n",
    "\n",
    "def step(i, state, X, y, rng: random.PRNGKey, dmseloss: Callable, get_params: Callable, update: Callable):\n",
    "    \"\"\"Full step function.\n",
    "    \n",
    "    - X, y: Our data.\n",
    "    - dmseloss: Gradient of loss function.\n",
    "    - get_params, update: get_params and update function from optimizer triple.\n",
    "    \"\"\"\n",
    "    params = get_params(state)\n",
    "    l, g = dmseloss(params, model, X, y)\n",
    "    state = update(i, g, state)\n",
    "    return (l, state)\n",
    "\n",
    "\n",
    "adam_step = Partial(step, get_params=opt_get_params, update=opt_update, dmseloss=dmseloss)\n",
    "adam_step = jit(adam_step)\n",
    "\n",
    "import pickle as pkl\n",
    "losses_train = []\n",
    "losses_test = []\n",
    "iterator = tqdm(range(200), desc=\"Training Loss\")\n",
    "states = []\n",
    "for i in iterator:\n",
    "    l_train, state = adam_step(i, state, X_train, y_train)\n",
    "    losses_train.append(l_train)\n",
    "    \n",
    "    params = opt_get_params(state)\n",
    "    l_test = mseloss(params, model, X_test, y_test)\n",
    "    losses_test.append(l_test)\n",
    "    states.append(state)"
   ]
  },
  {
   "cell_type": "code",
   "execution_count": 140,
   "id": "sharing-clear",
   "metadata": {},
   "outputs": [
    {
     "data": {
      "text/plain": [
       "[<matplotlib.lines.Line2D at 0x7fb61aa28790>]"
      ]
     },
     "execution_count": 140,
     "metadata": {},
     "output_type": "execute_result"
    },
    {
     "data": {
      "image/png": "[encoded data removed]",
      "text/plain": [
       "<Figure size 432x288 with 1 Axes>"
      ]
     },
     "metadata": {
      "image/png": {
       "height": 248,
       "width": 375
      },
      "needs_background": "light"
     },
     "output_type": "display_data"
    }
   ],
   "source": [
    "import matplotlib.pyplot as plt\n",
    "plt.plot(losses_train)\n",
    "plt.plot(losses_test)"
   ]
  },
  {
   "cell_type": "code",
   "execution_count": null,
   "id": "metallic-accommodation",
   "metadata": {},
   "outputs": [],
   "source": []
  },
  {
   "cell_type": "code",
   "execution_count": null,
   "id": "entertaining-screw",
   "metadata": {},
   "outputs": [],
   "source": []
  }
 ],
 "metadata": {
  "kernelspec": {
   "display_name": "drosha-gnn",
   "language": "python",
   "name": "drosha-gnn"
  },
  "language_info": {
   "codemirror_mode": {
    "name": "ipython",
    "version": 3
   },
   "file_extension": ".py",
   "mimetype": "text/x-python",
   "name": "python",
   "nbconvert_exporter": "python",
   "pygments_lexer": "ipython3",
   "version": "3.8.8"
  }
 },
 "nbformat": 4,
 "nbformat_minor": 5
}
