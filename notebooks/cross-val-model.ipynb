{
 "cells": [
  {
   "cell_type": "code",
   "execution_count": null,
   "id": "advisory-service",
   "metadata": {},
   "outputs": [],
   "source": [
    "%load_ext autoreload\n",
    "%autoreload 2\n",
    "%config InlineBackend.figure_format='retina'"
   ]
  },
  {
   "cell_type": "markdown",
   "id": "declared-gauge",
   "metadata": {},
   "source": [
    "## Cross-validation of model performance\n",
    "\n",
    "In this notebook, we wish to cross-validate our GNN model's performance. In particular, I do want to see whether the trends we observed are reproducible across different PRNGKeys."
   ]
  },
  {
   "cell_type": "markdown",
   "id": "democratic-shepherd",
   "metadata": {},
   "source": [
    "## Load data\n",
    "\n",
    "We start with a pickled version of our graph data."
   ]
  },
  {
   "cell_type": "code",
   "execution_count": null,
   "id": "processed-theta",
   "metadata": {},
   "outputs": [],
   "source": [
    "# 1. Start a W&B run\n",
    "# wandb.init(project='drosha-gnn', entity='ericmjl')\n",
    "\n",
    "# 2. Save model inputs and hyperparameters\n",
    "# config = wandb.config\n",
    "# config.learning_rate = 0.01\n",
    "\n",
    "# Model training here\n",
    "\n",
    "# 3. Log metrics over time to visualize performance\n",
    "# wandb.log({\"loss\": loss})\n",
    "    "
   ]
  },
  {
   "cell_type": "markdown",
   "id": "particular-origin",
   "metadata": {},
   "source": [
    "## Imports"
   ]
  },
  {
   "cell_type": "code",
   "execution_count": null,
   "id": "patient-champagne",
   "metadata": {},
   "outputs": [],
   "source": [
    "from sklearn.pipeline import Pipeline\n",
    "\n",
    "import pickle as pkl\n",
    "from pyprojroot import here\n",
    "from drosha_gnn.graph import to_networkx\n",
    "from drosha_gnn import annotate\n",
    "import pandas as pd\n",
    "import janitor\n",
    "import jax.numpy as np\n",
    "import networkx as nx"
   ]
  },
  {
   "cell_type": "markdown",
   "id": "representative-wages",
   "metadata": {},
   "source": [
    "## Read Data"
   ]
  },
  {
   "cell_type": "markdown",
   "id": "overhead-broadway",
   "metadata": {},
   "source": [
    "### Raw Dataframe"
   ]
  },
  {
   "cell_type": "code",
   "execution_count": null,
   "id": "postal-index",
   "metadata": {
    "tags": []
   },
   "outputs": [],
   "source": [
    "df = (\n",
    "    pd.read_csv(\"https://drosha-data.fly.dev/drosha/combined.csv?_stream=on&_sort=rowid&replicate__exact=1&_size=max\")\n",
    "    .join_apply(lambda row: to_networkx(row[\"dot_bracket\"]), \"graph\")\n",
    ")\n",
    "df.head()"
   ]
  },
  {
   "cell_type": "markdown",
   "id": "generous-chaos",
   "metadata": {},
   "source": [
    "### Nucleotide Entropy Data"
   ]
  },
  {
   "cell_type": "code",
   "execution_count": null,
   "id": "understood-banana",
   "metadata": {},
   "outputs": [],
   "source": [
    "entropy = pd.read_csv(\"https://drosha-data.fly.dev/drosha/entropy.csv?_labels=on&_stream=on&_sort=rowid&rowid__lte=847&_size=max\")"
   ]
  },
  {
   "cell_type": "code",
   "execution_count": null,
   "id": "scientific-revelation",
   "metadata": {},
   "outputs": [],
   "source": [
    "entropy"
   ]
  },
  {
   "cell_type": "code",
   "execution_count": null,
   "id": "regulation-dominant",
   "metadata": {},
   "outputs": [],
   "source": [
    "from tqdm.auto import tqdm\n",
    "from drosha_gnn.data import make_graph, make_graph_matrices\n",
    "from drosha_gnn.data import prep_feats, prep_adjs, feat_matrix\n",
    "graphs = dict()\n",
    "graph_matrices = dict()\n",
    "for sample_idx in tqdm(df.index):\n",
    "    graphs[sample_idx] = make_graph(sample_idx, df, entropy)\n",
    "    graph_matrices[sample_idx] = make_graph_matrices(sample_idx, df, entropy)"
   ]
  },
  {
   "cell_type": "markdown",
   "id": "understood-ocean",
   "metadata": {},
   "source": [
    "## Train test splits\n",
    "\n",
    "We need different train-test splits in order to test the uncertainty in model performance."
   ]
  },
  {
   "cell_type": "code",
   "execution_count": null,
   "id": "durable-lawyer",
   "metadata": {},
   "outputs": [],
   "source": [
    "from jax.random import PRNGKey, split\n",
    "\n",
    "key = PRNGKey(99)\n"
   ]
  },
  {
   "cell_type": "code",
   "execution_count": null,
   "id": "warming-paris",
   "metadata": {},
   "outputs": [],
   "source": [
    "from drosha_gnn.training import train_test_split\n",
    "from drosha_gnn.data import split_graph_data"
   ]
  },
  {
   "cell_type": "code",
   "execution_count": null,
   "id": "coordinated-remainder",
   "metadata": {},
   "outputs": [],
   "source": [
    "# Just test-driving\n",
    "X_train, X_test, y_train, y_test = split_graph_data(key, graph_matrices, df)\n",
    "y_train.shape"
   ]
  },
  {
   "cell_type": "code",
   "execution_count": null,
   "id": "senior-homeless",
   "metadata": {},
   "outputs": [],
   "source": [
    "from drosha_gnn.models import AttentionEverywhereGNN"
   ]
  },
  {
   "cell_type": "code",
   "execution_count": null,
   "id": "gentle-command",
   "metadata": {},
   "outputs": [],
   "source": [
    "\n",
    "from drosha_gnn.models import make_model_and_params\n",
    "\n",
    "model, params = make_model_and_params(key, AttentionEverywhereGNN, input_shape=(170, 2), num_nodes=170)"
   ]
  },
  {
   "cell_type": "code",
   "execution_count": null,
   "id": "obvious-bearing",
   "metadata": {},
   "outputs": [],
   "source": [
    "model(params, X_train[12])"
   ]
  },
  {
   "cell_type": "code",
   "execution_count": null,
   "id": "nonprofit-despite",
   "metadata": {
    "tags": []
   },
   "outputs": [],
   "source": [
    "## Test-drive model\n",
    "from jax import vmap\n",
    "from functools import partial\n",
    "\n",
    "vmap(partial(model, params))(X_train)"
   ]
  },
  {
   "cell_type": "code",
   "execution_count": null,
   "id": "cathedral-wayne",
   "metadata": {},
   "outputs": [],
   "source": [
    "from drosha_gnn.training import fit, dmseloss, mseloss"
   ]
  },
  {
   "cell_type": "code",
   "execution_count": null,
   "id": "sonic-jenny",
   "metadata": {},
   "outputs": [],
   "source": [
    "losses_train, states, opt_get_params = fit(model, params, X_train, y_train)"
   ]
  },
  {
   "cell_type": "code",
   "execution_count": null,
   "id": "acting-victor",
   "metadata": {},
   "outputs": [],
   "source": [
    "# from jax.experimental.optimizers import adam\n",
    "# from jax import jit, vmap\n",
    "# from typing import Callable\n",
    "# from jax.tree_util import Partial\n",
    "\n",
    "from drosha_gnn.training import states_losses, best_params\n",
    "\n",
    "best_param, best_idx = best_params(states, model, X_test, y_test, opt_get_params, mseloss)"
   ]
  },
  {
   "cell_type": "code",
   "execution_count": null,
   "id": "weighted-conservation",
   "metadata": {},
   "outputs": [],
   "source": []
  },
  {
   "cell_type": "code",
   "execution_count": null,
   "id": "worthy-cathedral",
   "metadata": {},
   "outputs": [],
   "source": [
    "y_preds  = vmap(partial(model, best_param))(X_test)\n",
    "plt.scatter(y_preds.squeeze(), y_test.squeeze())\n",
    "plt.gca().set_aspect(\"equal\")"
   ]
  },
  {
   "cell_type": "code",
   "execution_count": null,
   "id": "interior-vertical",
   "metadata": {},
   "outputs": [],
   "source": [
    "from drosha_gnn.training import mse\n",
    "\n",
    "mse(y_test, y_preds)"
   ]
  },
  {
   "cell_type": "code",
   "execution_count": null,
   "id": "level-dynamics",
   "metadata": {},
   "outputs": [],
   "source": [
    "best_idx"
   ]
  },
  {
   "cell_type": "code",
   "execution_count": null,
   "id": "vulnerable-shore",
   "metadata": {},
   "outputs": [],
   "source": [
    "# import matplotlib.pyplot as plt\n",
    "# plt.plot(losses_train)\n",
    "# plt.plot(test_losses)"
   ]
  },
  {
   "cell_type": "code",
   "execution_count": null,
   "id": "sitting-crack",
   "metadata": {},
   "outputs": [],
   "source": []
  },
  {
   "cell_type": "code",
   "execution_count": null,
   "id": "fourth-triple",
   "metadata": {},
   "outputs": [],
   "source": []
  }
 ],
 "metadata": {
  "kernelspec": {
   "display_name": "drosha-gnn",
   "language": "python",
   "name": "drosha-gnn"
  },
  "language_info": {
   "codemirror_mode": {
    "name": "ipython",
    "version": 3
   },
   "file_extension": ".py",
   "mimetype": "text/x-python",
   "name": "python",
   "nbconvert_exporter": "python",
   "pygments_lexer": "ipython3",
   "version": "3.8.8"
  }
 },
 "nbformat": 4,
 "nbformat_minor": 5
}
