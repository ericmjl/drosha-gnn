{
 "cells": [
  {
   "cell_type": "markdown",
   "id": "insured-response",
   "metadata": {},
   "source": [
    "# Converting RNA dot-brackets to graphs\n",
    "\n",
    "How do we convert the RNA structure into a graph? \n",
    "Well, it all starts with a dot-bracket notation."
   ]
  },
  {
   "cell_type": "markdown",
   "id": "beneficial-suffering",
   "metadata": {},
   "source": [
    "## Dot-bracket notation\n",
    "\n",
    "Given the following notation:\n",
    "\n",
    "```\n",
    "((((....((((((..((((.(((...(((((((((((((((((((.((((((((((((((((...............)))))))))))))))).))))))))))))))))))))))))......))...)))))))))).\n",
    "```\n",
    "\n",
    "We can express it as a graph.\n",
    "Each character is a position.\n",
    "Pairs of open and closed parentheses indicate a pairing between those two positions.\n",
    "The following function defines a validation check that a dot-bracket string is valid\n",
    "for a given RNA sequence."
   ]
  },
  {
   "cell_type": "code",
   "execution_count": null,
   "id": "alert-romania",
   "metadata": {
    "tags": []
   },
   "outputs": [],
   "source": [
    "from drosha_gnn.graph import validate\n",
    "\n",
    "validate??"
   ]
  },
  {
   "cell_type": "code",
   "execution_count": null,
   "id": "advance-salon",
   "metadata": {
    "tags": []
   },
   "outputs": [],
   "source": [
    "dot_bracket = \"(((((.(((((((((.....))))))).)).((((((...((((.(((((((..((.((.((((((((............)))))))).)).))..))))))).))))...))))))....((((....))))((....)).))))).\"\n",
    "sequence = \"U\" * len(dot_bracket)\n",
    "validate(dot_bracket, sequence)"
   ]
  },
  {
   "cell_type": "markdown",
   "id": "sapphire-invalid",
   "metadata": {},
   "source": [
    "## Pairing parentheses\n",
    "\n",
    "How do we write an algorithm that pairs up parentheses?\n",
    "\n",
    "One way is to loop over the dot-bracket notation\n",
    "and start by collecting the positions of open parentheses.\n",
    "We keep appending the positions to a list.\n",
    "As soon as we hit a closing parentheses,\n",
    "we pop the last position of the open parentheses,\n",
    "pair it with the current position of the closing parentheses,\n",
    "and store the pair together in a pairing list.\n",
    "\n",
    "At the end, openings should be empty,\n",
    "while pairings will contain the so-called edge list of our graph."
   ]
  },
  {
   "cell_type": "code",
   "execution_count": null,
   "id": "champion-forward",
   "metadata": {
    "tags": []
   },
   "outputs": [],
   "source": [
    "from drosha_gnn.graph import base_pair_edges\n",
    "base_pair_edges??"
   ]
  },
  {
   "cell_type": "code",
   "execution_count": null,
   "id": "corporate-integration",
   "metadata": {
    "tags": []
   },
   "outputs": [],
   "source": [
    "e = base_pair_edges(dot_bracket)"
   ]
  },
  {
   "cell_type": "markdown",
   "id": "attended-monkey",
   "metadata": {},
   "source": [
    "Besides that, we also need the backbone edges:"
   ]
  },
  {
   "cell_type": "code",
   "execution_count": null,
   "id": "consolidated-penguin",
   "metadata": {
    "tags": []
   },
   "outputs": [],
   "source": [
    "from drosha_gnn.graph import backbone_edges\n",
    "\n",
    "backbone_edges??"
   ]
  },
  {
   "cell_type": "markdown",
   "id": "normal-stake",
   "metadata": {},
   "source": [
    "## NetworkX Graph\n",
    "\n",
    "Once we have the pairing list, we can now construct a NetworkX graph.\n",
    "The graph definition is as follows:\n",
    "\n",
    "1. Nodes are integers, which represent the position.\n",
    "2. Edges are pairs of integers, which represent base pairing.\n",
    "\n",
    "This is an undirected graph,\n",
    "as there is no semantically interpretable notion of directionality\n",
    "in a base pairing system."
   ]
  },
  {
   "cell_type": "code",
   "execution_count": null,
   "id": "popular-prediction",
   "metadata": {
    "tags": []
   },
   "outputs": [],
   "source": [
    "from drosha_gnn.graph import to_networkx\n",
    "\n",
    "to_networkx??"
   ]
  },
  {
   "cell_type": "code",
   "execution_count": null,
   "id": "colonial-vermont",
   "metadata": {
    "tags": []
   },
   "outputs": [],
   "source": [
    "import networkx as nx\n",
    "G = to_networkx(dot_bracket)\n",
    "nx.draw(G)"
   ]
  },
  {
   "cell_type": "code",
   "execution_count": null,
   "id": "muslim-drill",
   "metadata": {},
   "outputs": [],
   "source": []
  }
 ],
 "metadata": {
  "kernelspec": {
   "display_name": "drosha-gnn",
   "language": "python",
   "name": "drosha-gnn"
  },
  "language_info": {
   "codemirror_mode": {
    "name": "ipython",
    "version": 3
   },
   "file_extension": ".py",
   "mimetype": "text/x-python",
   "name": "python",
   "nbconvert_exporter": "python",
   "pygments_lexer": "ipython3",
   "version": "3.8.8"
  }
 },
 "nbformat": 4,
 "nbformat_minor": 5
}
