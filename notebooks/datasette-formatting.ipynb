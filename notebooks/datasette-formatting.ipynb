{
 "cells": [
  {
   "cell_type": "markdown",
   "id": "damaged-dryer",
   "metadata": {},
   "source": [
    "# Format data for datasette upload"
   ]
  },
  {
   "cell_type": "code",
   "execution_count": null,
   "id": "ethical-tokyo",
   "metadata": {},
   "outputs": [],
   "source": [
    "import pandas as pd"
   ]
  },
  {
   "cell_type": "code",
   "execution_count": null,
   "id": "continued-portuguese",
   "metadata": {},
   "outputs": [],
   "source": [
    "from pyprojroot import here"
   ]
  },
  {
   "cell_type": "code",
   "execution_count": null,
   "id": "peripheral-feedback",
   "metadata": {},
   "outputs": [],
   "source": [
    "df_bioc = pd.read_csv(here() / \"data/df_bioc.csv\", index_col=0).set_index('miRNA')\n",
    "\n",
    "df_bioc.columns"
   ]
  },
  {
   "cell_type": "code",
   "execution_count": null,
   "id": "norman-knock",
   "metadata": {},
   "outputs": [],
   "source": [
    "df_vari = pd.read_csv(here() / \"data/df_vari.csv\", index_col=0).set_index('miRNA')"
   ]
  },
  {
   "cell_type": "code",
   "execution_count": null,
   "id": "decreased-extent",
   "metadata": {},
   "outputs": [],
   "source": [
    "from scipy.special import logit\n",
    "import janitor\n",
    "\n",
    "combined_df = pd.concat([df_bioc, df_vari]).query(\"frac_avg < 1\").query(\"frac_avg > 0\").transform_column(\"frac_avg\", logit, \"logit\")"
   ]
  },
  {
   "cell_type": "code",
   "execution_count": null,
   "id": "looking-radical",
   "metadata": {},
   "outputs": [],
   "source": [
    "seq_columns = [c for c in df_bioc.columns if \"seq_\" in c]\n",
    "entropy_columns = [c for c in df_bioc.columns if \"shannon_\" in c]\n",
    "bp_columns = [c for c in df_bioc.columns if \"bp_\" in c]\n",
    "cut_columns = [c for c in df_bioc.columns if \"cut_\" in c]"
   ]
  },
  {
   "cell_type": "markdown",
   "id": "pleased-lobby",
   "metadata": {},
   "source": [
    "## Combined dataset"
   ]
  },
  {
   "cell_type": "code",
   "execution_count": null,
   "id": "checked-coral",
   "metadata": {},
   "outputs": [],
   "source": [
    "import janitor\n",
    "\n",
    "def remove_long_cols(df):\n",
    "    seq_columns = [c for c in df_bioc.columns if \"seq_\" in c]\n",
    "    entropy_columns = [c for c in df_bioc.columns if \"shannon_\" in c]\n",
    "    bp_columns = [c for c in df_bioc.columns if \"bp_\" in c]\n",
    "    cut_columns = [c for c in df_bioc.columns if \"cut_\" in c]\n",
    "    return df.select_columns(seq_columns, invert=True).select_columns(entropy_columns, invert=True).select_columns(bp_columns, invert=True).select_columns(cut_columns, invert=True)\n",
    "\n",
    "smaller_df = combined_df.pipe(remove_long_cols)\n",
    "smaller_df.to_csv(here() / \"data/combined.csv\")"
   ]
  },
  {
   "cell_type": "markdown",
   "id": "consistent-apparatus",
   "metadata": {},
   "source": [
    "## Position-based data"
   ]
  },
  {
   "cell_type": "code",
   "execution_count": null,
   "id": "structured-southwest",
   "metadata": {},
   "outputs": [],
   "source": [
    "entropy = combined_df.select_columns(entropy_columns)\n",
    "entropy.to_csv(here() / \"data/entropy.csv\")"
   ]
  },
  {
   "cell_type": "code",
   "execution_count": null,
   "id": "chemical-sapphire",
   "metadata": {},
   "outputs": [],
   "source": [
    "onehot = combined_df.select_columns(seq_columns)\n",
    "onehot.to_csv(here() / \"data/onehot.csv\")"
   ]
  },
  {
   "cell_type": "code",
   "execution_count": null,
   "id": "proper-facial",
   "metadata": {},
   "outputs": [],
   "source": [
    "bp = combined_df.select_columns(bp_columns)\n",
    "bp.to_csv(here() / \"data/bp.csv\")"
   ]
  },
  {
   "cell_type": "code",
   "execution_count": null,
   "id": "portuguese-extreme",
   "metadata": {},
   "outputs": [],
   "source": [
    "cut = combined_df.select_columns(cut_columns)\n",
    "cut.to_csv(here() / \"data/cut.csv\")"
   ]
  },
  {
   "cell_type": "code",
   "execution_count": null,
   "id": "three-conversation",
   "metadata": {
    "tags": []
   },
   "outputs": [],
   "source": [
    "import seaborn as sns\n",
    "sns.pairplot(\n",
    "    smaller_df\n",
    "    .query(\"replicate == 'biochem'\")\n",
    "    .select_columns(\n",
    "        [\n",
    "            \"logit\", \"length\", \"GC\", \"AU\", \"compact\", \n",
    "            \"hairpin_score\", \"minimum_free_energy\", \"ensemble_free_energy\"\n",
    "        ]\n",
    "    )\n",
    ")"
   ]
  },
  {
   "cell_type": "code",
   "execution_count": null,
   "id": "gross-mission",
   "metadata": {},
   "outputs": [],
   "source": [
    "smaller_df.columns"
   ]
  },
  {
   "cell_type": "code",
   "execution_count": null,
   "id": "partial-disabled",
   "metadata": {},
   "outputs": [],
   "source": []
  }
 ],
 "metadata": {
  "kernelspec": {
   "display_name": "drosha-gnn",
   "language": "python",
   "name": "drosha-gnn"
  },
  "language_info": {
   "codemirror_mode": {
    "name": "ipython",
    "version": 3
   },
   "file_extension": ".py",
   "mimetype": "text/x-python",
   "name": "python",
   "nbconvert_exporter": "python",
   "pygments_lexer": "ipython3",
   "version": "3.8.8"
  }
 },
 "nbformat": 4,
 "nbformat_minor": 5
}
