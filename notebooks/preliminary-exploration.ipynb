{
 "cells": [
  {
   "cell_type": "code",
   "execution_count": null,
   "id": "maritime-spain",
   "metadata": {},
   "outputs": [],
   "source": [
    "%load_ext autoreload\n",
    "%autoreload 2\n",
    "%config InlineBackend.figure_format='retina'"
   ]
  },
  {
   "cell_type": "code",
   "execution_count": null,
   "id": "australian-philosophy",
   "metadata": {},
   "outputs": [],
   "source": [
    "from pyprojroot import here\n",
    "import janitor\n",
    "import pandas as pd\n",
    "from scipy.special import logit"
   ]
  },
  {
   "cell_type": "code",
   "execution_count": null,
   "id": "rational-burden",
   "metadata": {},
   "outputs": [],
   "source": [
    "df_bioc = (\n",
    "    pd.read_csv(here() / \"data/df_bioc.csv\", index_col=0)\n",
    "    .query(\"frac_avg != 0\")\n",
    "    .transform_column(\"frac_avg\", lambda x: 1 - x, \"inv_frac_avg\")\n",
    "    .transform_column(\"inv_frac_avg\", logit, \"logit_inv\")\n",
    "    .change_type(\"logit_inv\", float)\n",
    "    .transform_column(\"frac_avg\", logit, \"logit\")\n",
    "    .change_type(\"logit\", float)\n",
    ")"
   ]
  },
  {
   "cell_type": "code",
   "execution_count": null,
   "id": "separate-richmond",
   "metadata": {},
   "outputs": [],
   "source": [
    "entropy_columns = [c for c in df_bioc.columns if \"shannon\" in c]\n",
    "def avg_entropy(row: pd.Series):\n",
    "    total = 0\n",
    "    count = 0\n",
    "    data = row[row != -1]\n",
    "    return data.mean()\n",
    "\n",
    "avg_entropy = df_bioc[entropy_columns].join_apply(avg_entropy, \"avg_entropy\")[\"avg_entropy\"]\n",
    "df_bioc = df_bioc.add_column(\"avg_entropy\", avg_entropy)"
   ]
  },
  {
   "cell_type": "code",
   "execution_count": null,
   "id": "invisible-exploration",
   "metadata": {},
   "outputs": [],
   "source": [
    "import seaborn as sns\n",
    "import matplotlib.pyplot as plt\n",
    "\n",
    "cols = ['avg_entropy', 'hairpin_score', 'minimum_free_energy', 'ensemble_free_energy', 'logit']\n",
    "sns.pairplot(df_bioc[cols], kind=\"kde\", plot_kws={\"fill\": True})"
   ]
  },
  {
   "cell_type": "code",
   "execution_count": null,
   "id": "unauthorized-daily",
   "metadata": {},
   "outputs": [],
   "source": []
  }
 ],
 "metadata": {
  "kernelspec": {
   "display_name": "drosha-gnn",
   "language": "python",
   "name": "drosha-gnn"
  },
  "language_info": {
   "codemirror_mode": {
    "name": "ipython",
    "version": 3
   },
   "file_extension": ".py",
   "mimetype": "text/x-python",
   "name": "python",
   "nbconvert_exporter": "python",
   "pygments_lexer": "ipython3",
   "version": "3.8.8"
  }
 },
 "nbformat": 4,
 "nbformat_minor": 5
}
