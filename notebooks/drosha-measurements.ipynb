{
 "cells": [
  {
   "cell_type": "markdown",
   "id": "chinese-surgery",
   "metadata": {},
   "source": [
    "## Introduction\n",
    "\n",
    "We're now going to take a look at the drosha measurements and how to featurize them onto the graphs."
   ]
  },
  {
   "cell_type": "code",
   "execution_count": null,
   "id": "generous-defeat",
   "metadata": {
    "tags": []
   },
   "outputs": [],
   "source": [
    "from pyprojroot import here\n",
    "import pandas as pd\n",
    "\n",
    "df_bioc = pd.read_csv(here() / \"data/df_bioc.csv\", index_col=0)\n",
    "df_bioc.columns"
   ]
  },
  {
   "cell_type": "markdown",
   "id": "intermediate-reservation",
   "metadata": {},
   "source": [
    "There are a lot of columns in there, however, the ones we are most interested in are:\n",
    "\n",
    "- `frac_avg`: Gives us the activity\n",
    "- `dot_bracket`: Gives us the dot-bracket notation\n",
    "\n",
    "Things that we may be interested in include:\n",
    "\n",
    "- The `shannon_{pos}` series of columns, which gives us the shannon entropy of that particular position in the folded RNA.\n",
    "\n",
    "Our goal here is to predict `frac_avg` (or some math transform of it) from the `dot_bracket` structure.\n",
    "Our hypothesis here is that the `dot_bracket` structure represented as a graph\n",
    "gives us sufficient information to predict `frac_avg` accurately;\n",
    "alternatively, we might want to add in the shannon entropy,\n",
    "as we found previously that it was visually\\* correlated with RNA cleavage (`frac_avg`).\n",
    "\n",
    "\n",
    "> \\* by visually correlated, we refer to Fig. 2 of [our previously-published paper](https://www.sciencedirect.com/science/article/abs/pii/S1097276520307358)."
   ]
  },
  {
   "cell_type": "code",
   "execution_count": null,
   "id": "metric-reader",
   "metadata": {
    "tags": []
   },
   "outputs": [],
   "source": [
    "from drosha_gnn.graph import to_networkx\n",
    "import janitor"
   ]
  },
  {
   "cell_type": "markdown",
   "id": "alien-sword",
   "metadata": {},
   "source": [
    "## Make graphs from dot-bracket"
   ]
  },
  {
   "cell_type": "code",
   "execution_count": null,
   "id": "interested-taylor",
   "metadata": {
    "tags": []
   },
   "outputs": [],
   "source": [
    "df = df_bioc.join_apply(lambda row: to_networkx(row[\"dot_bracket\"]), \"graph\")\n",
    "df.head()"
   ]
  },
  {
   "cell_type": "code",
   "execution_count": null,
   "id": "sunset-density",
   "metadata": {
    "tags": []
   },
   "outputs": [],
   "source": [
    "import jax.numpy as np\n",
    "\n",
    "def ecdf(data):\n",
    "    x = np.sort(data)\n",
    "    y = np.arange(len(data)+1) / (len(data) + 1)\n",
    "    return x, y"
   ]
  },
  {
   "cell_type": "code",
   "execution_count": null,
   "id": "burning-shade",
   "metadata": {
    "tags": []
   },
   "outputs": [],
   "source": [
    "x, y = ecdf(df_bioc[\"frac_avg\"])"
   ]
  },
  {
   "cell_type": "code",
   "execution_count": null,
   "id": "choice-panama",
   "metadata": {},
   "outputs": [],
   "source": []
  }
 ],
 "metadata": {
  "kernelspec": {
   "display_name": "drosha-gnn",
   "language": "python",
   "name": "drosha-gnn"
  },
  "language_info": {
   "codemirror_mode": {
    "name": "ipython",
    "version": 3
   },
   "file_extension": ".py",
   "mimetype": "text/x-python",
   "name": "python",
   "nbconvert_exporter": "python",
   "pygments_lexer": "ipython3",
   "version": "3.8.8"
  }
 },
 "nbformat": 4,
 "nbformat_minor": 5
}
